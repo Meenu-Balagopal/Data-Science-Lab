{
 "cells": [
  {
   "cell_type": "code",
   "execution_count": 1,
   "id": "013f1d7d",
   "metadata": {},
   "outputs": [
    {
     "name": "stdout",
     "output_type": "stream",
     "text": [
      "Contents of the Series Object:\n",
      "0     This\n",
      "1     That\n",
      "2       Or\n",
      "3    Where\n",
      "4      Why\n",
      "5      And\n",
      "dtype: object\n"
     ]
    }
   ],
   "source": [
    "import pandas as pd\n",
    "# List of strings\n",
    "list_of_words = ['This', 'That', 'Or', 'Where', 'Why', 'And']\n",
    "# Create a Series object from list\n",
    "series_obj = pd.Series(list_of_words)\n",
    "print('Contents of the Series Object:')\n",
    "print(series_obj)"
   ]
  },
  {
   "cell_type": "code",
   "execution_count": null,
   "id": "e6f0d7b0",
   "metadata": {},
   "outputs": [],
   "source": []
  }
 ],
 "metadata": {
  "kernelspec": {
   "display_name": "Python 3 (ipykernel)",
   "language": "python",
   "name": "python3"
  },
  "language_info": {
   "codemirror_mode": {
    "name": "ipython",
    "version": 3
   },
   "file_extension": ".py",
   "mimetype": "text/x-python",
   "name": "python",
   "nbconvert_exporter": "python",
   "pygments_lexer": "ipython3",
   "version": "3.9.7"
  }
 },
 "nbformat": 4,
 "nbformat_minor": 5
}

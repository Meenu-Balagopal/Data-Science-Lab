{
 "cells": [
  {
   "cell_type": "code",
   "execution_count": 1,
   "id": "c38e33b6",
   "metadata": {},
   "outputs": [
    {
     "name": "stdout",
     "output_type": "stream",
     "text": [
      "\n",
      "ARRAY 1 Read elements from single line seperated by space: \n",
      "2 4 6 8 1 3 5 9 8\n",
      "\n",
      "ARRAY 1 ,  Enter row size and column size: \n",
      "3 3\n",
      "\n",
      "ARRAY 1\n",
      "[[2 4 6]\n",
      " [8 1 3]\n",
      " [5 9 8]]\n",
      "\n",
      "ARRAY 2 Read elements from single line seperated by space: \n",
      "1 2 3 4 5 6 7 8 9\n",
      "\n",
      "ARRAY 2 ,  Enter row size and column size: \n",
      "3 3\n",
      "\n",
      "ARRAY 2\n",
      "[[1 2 3]\n",
      " [4 5 6]\n",
      " [7 8 9]]\n",
      "\n",
      "Dot product is\n",
      "[[ 60  72  84]\n",
      " [ 33  45  57]\n",
      " [ 97 119 141]]\n"
     ]
    }
   ],
   "source": [
    "#2.1\n",
    "import numpy as np \n",
    "\n",
    "def create_matrix(mc):\n",
    "    print(\"\\nARRAY \"+str(mc)+\" Read elements from single line seperated by space: \")\n",
    "    arr_1 = map(int, input().split())\n",
    "    arr_1 = np.array(list(arr_1))\n",
    "    #print(arr)\n",
    "    print(\"\\nARRAY \"+str(mc)+\" ,  Enter row size and column size: \")\n",
    "    row,column = map(int, input().split())\n",
    "    if(len(arr_1)!= (row*column)):\n",
    "        print(\"\\nRow and Column size not match with total elements !! try again\")\n",
    "        return create_matrix(mc)\n",
    "    arr_1 = arr_1.reshape(row,column)\n",
    "    print(\"\\nARRAY \"+str(mc))\n",
    "    print(arr_1)\n",
    "    return arr_1\n",
    "\n",
    "\n",
    "array_1 = create_matrix(1)\n",
    "array_2 = create_matrix(2)\n",
    "\n",
    "if(array_1.shape == array_2.shape):\n",
    "    print(\"\\nDot product is\")\n",
    "    print(np.dot(array_1,array_2))\n",
    "else:\n",
    "    print(\"\\nUnmatching Dimensions!\")"
   ]
  },
  {
   "cell_type": "code",
   "execution_count": 2,
   "id": "919f09b4",
   "metadata": {},
   "outputs": [
    {
     "name": "stdout",
     "output_type": "stream",
     "text": [
      "\n",
      "ARRAY 1Read elements from single line seperated by space : \n",
      "1 2 3 4 5 6 7 8 9\n",
      "\n",
      "ARRAY 1 , Enter the row size and column size: \n",
      "3 3\n",
      "\n",
      "ARRAY 1\n",
      "[[1 2 3]\n",
      " [4 5 6]\n",
      " [7 8 9]]\n",
      "\n",
      "Transpose : \n",
      "[[1 4 7]\n",
      " [2 5 8]\n",
      " [3 6 9]]\n"
     ]
    }
   ],
   "source": [
    "#2.2\n",
    "import numpy as np \n",
    "\n",
    "def create_matrix(mc):\n",
    "    print(\"\\nARRAY \"+str(mc)+\"Read elements from single line seperated by space : \")\n",
    "    arr_1 = map(int, input().split())\n",
    "    arr_1 = np.array(list(arr_1))\n",
    "    #print(arr)\n",
    "    print(\"\\nARRAY \"+str(mc)+\" , Enter the row size and column size: \")\n",
    "    row,column = map(int, input().split())\n",
    "    if(len(arr_1)!= (row*column)):\n",
    "        print(\"\\nRow and Column size not match with total elements !! retry\")\n",
    "        return create_matrix(mc)\n",
    "    arr_1 = arr_1.reshape(row,column)\n",
    "    print(\"\\nARRAY \"+str(mc))\n",
    "    print(arr_1)\n",
    "    print(\"\\nTranspose : \")\n",
    "    return arr_1\n",
    "\n",
    "\n",
    "\n",
    "print(create_matrix(1).transpose())\n"
   ]
  },
  {
   "cell_type": "code",
   "execution_count": 4,
   "id": "87ff3cf4",
   "metadata": {},
   "outputs": [
    {
     "name": "stdout",
     "output_type": "stream",
     "text": [
      "\n",
      "ARRAY 1 Read elements from a single line seperated by space: \n",
      "1 2 3 4 5 6 7 8 9\n",
      "\n",
      "ARRAY 1 , Enter row size and column size : \n",
      "3 3\n",
      "\n",
      "ARRAY 1\n",
      "[[1 2 3]\n",
      " [4 5 6]\n",
      " [7 8 9]]\n",
      "\n",
      "Trase is: \n",
      "15\n"
     ]
    }
   ],
   "source": [
    "#2.3\n",
    "import numpy as np \n",
    "\n",
    "def create_matrix(mc):\n",
    "    print(\"\\nARRAY \"+str(mc)+\" Read elements from a single line seperated by space: \")\n",
    "    arr_1 = map(int, input().split())\n",
    "    arr_1 = np.array(list(arr_1))\n",
    "    #print(arr)\n",
    "    print(\"\\nARRAY \"+str(mc)+\" , Enter row size and column size : \")\n",
    "    row,column = map(int, input().split())\n",
    "    if(len(arr_1)!= (row*column)):\n",
    "        print(\"\\nRow and Column size not match with total elements !! retry\")\n",
    "        return create_matrix(mc)\n",
    "    arr_1 = arr_1.reshape(row,column)\n",
    "    print(\"\\nARRAY \"+str(mc))\n",
    "    print(arr_1)\n",
    "    print(\"\\nTrase is: \")\n",
    "    return arr_1\n",
    "\n",
    "\n",
    "\n",
    "print(create_matrix(1).trace())"
   ]
  },
  {
   "cell_type": "code",
   "execution_count": 6,
   "id": "df8b662c",
   "metadata": {},
   "outputs": [
    {
     "name": "stdout",
     "output_type": "stream",
     "text": [
      "\n",
      "ARRAY 1 Read elements from a single line seperated by space: \n",
      "1 2 3 4 5 6 7 8 9\n",
      "\n",
      "ARRAY 1 ,  enter row size and column size : \n",
      "3 3\n",
      "\n",
      "ARRAY 1\n",
      "[[1 2 3]\n",
      " [4 5 6]\n",
      " [7 8 9]]\n",
      "\n",
      "Rank : \n",
      "2\n"
     ]
    }
   ],
   "source": [
    "#2.4\n",
    "import numpy as np \n",
    "\n",
    "def create_matrix(mc):\n",
    "    print(\"\\nARRAY \"+str(mc)+\" Read elements from a single line seperated by space: \")\n",
    "    arr_1 = map(int, input().split())\n",
    "    arr_1 = np.array(list(arr_1))\n",
    "    #print(arr)\n",
    "    print(\"\\nARRAY \"+str(mc)+\" ,  enter row size and column size : \")\n",
    "    row,column = map(int, input().split())\n",
    "    if(len(arr_1)!= (row*column)):\n",
    "        print(\"\\nRow and Column size not match with total elements !! retry\")\n",
    "        return create_matrix(mc)\n",
    "    arr_1 = arr_1.reshape(row,column)\n",
    "    print(\"\\nARRAY \"+str(mc))\n",
    "    print(arr_1)\n",
    "    print(\"\\nRank : \")\n",
    "    return arr_1\n",
    "\n",
    "\n",
    "\n",
    "print(np.linalg.matrix_rank(create_matrix(1)))\n",
    "\n"
   ]
  },
  {
   "cell_type": "code",
   "execution_count": null,
   "id": "d22f079e",
   "metadata": {},
   "outputs": [],
   "source": []
  }
 ],
 "metadata": {
  "kernelspec": {
   "display_name": "Python 3 (ipykernel)",
   "language": "python",
   "name": "python3"
  },
  "language_info": {
   "codemirror_mode": {
    "name": "ipython",
    "version": 3
   },
   "file_extension": ".py",
   "mimetype": "text/x-python",
   "name": "python",
   "nbconvert_exporter": "python",
   "pygments_lexer": "ipython3",
   "version": "3.9.7"
  }
 },
 "nbformat": 4,
 "nbformat_minor": 5
}
